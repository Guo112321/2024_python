{
 "cells": [
  {
   "cell_type": "markdown",
   "metadata": {},
   "source": [
    "# Lab-7\n"
   ]
  },
  {
   "cell_type": "markdown",
   "metadata": {},
   "source": [
    "# Hypothesis Part"
   ]
  },
  {
   "cell_type": "markdown",
   "metadata": {},
   "source": [
    "* Name: Guo Xinfu\n",
    "* Student ID: n01611988"
   ]
  },
  {
   "cell_type": "markdown",
   "metadata": {},
   "source": [
    "## Import Libraries"
   ]
  },
  {
   "cell_type": "code",
   "execution_count": 16,
   "metadata": {},
   "outputs": [],
   "source": [
    "from scipy import stats\n",
    "import numpy as np"
   ]
  },
  {
   "cell_type": "markdown",
   "metadata": {},
   "source": [
    "### Choose the best Test and apply."
   ]
  },
  {
   "cell_type": "markdown",
   "metadata": {},
   "source": [
    "## Exercise 1"
   ]
  },
  {
   "cell_type": "markdown",
   "metadata": {},
   "source": [
    "suppose we want to know whether or not the mean weight of a certain species of some turtle is equal to 310 pounds.\n",
    "\n",
    "To test this, we go out and collect a simple random sample of turtles with the following weights:\n",
    "\n",
    "Weights: 300, 315, 320, 311, 314, 309, 300, 308, 305, 303, 305, 301, 303"
   ]
  },
  {
   "cell_type": "code",
   "execution_count": 22,
   "metadata": {},
   "outputs": [
    {
     "name": "stdout",
     "output_type": "stream",
     "text": [
      "mean: 307.2307692307692\n",
      "t_test: -1.5848116313861254\n",
      "p_val: 0.1389944275158753\n",
      "we fail to reject the null hypothesis\n"
     ]
    }
   ],
   "source": [
    "from scipy.stats import ttest_1samp\n",
    "    \n",
    "weight = [300, 315, 320, 311, 314, 309, 300, 308, 305, 303, 305, 301, 303]\n",
    "mean=np.mean(weight)\n",
    "print(\"mean:\", mean)\n",
    "t_test, p_val = ttest_1samp(weight, 310)\n",
    "print(\"t_test:\",t_test)\n",
    "print(\"p_val:\",p_val)\n",
    "\n",
    "if p_val < 0.05 :\n",
    "    print(\"we can reject the null hypothesis\")\n",
    "else:\n",
    "    print(\"we fail to reject the null hypothesis\")"
   ]
  },
  {
   "cell_type": "markdown",
   "metadata": {},
   "source": [
    "This means that there is not sufficient evidence to conclude that the mean weight of the turtle species is different from 310 pounds based on the provided sample data."
   ]
  },
  {
   "cell_type": "markdown",
   "metadata": {},
   "source": [
    "## Exercise 2\n"
   ]
  },
  {
   "cell_type": "markdown",
   "metadata": {},
   "source": [
    "suppose we want to know whether or not the mean weight between two different species of turtles is equal.\n",
    "\n",
    "To test this, we collect a simple random sample of turtles from each species with the following weights:\n",
    "\n",
    "Sample 1: 300, 315, 320, 311, 314, 309, 300, 308, 305, 303, 305, 301, 303\n",
    "\n",
    "Sample 2: 335, 329, 322, 321, 324, 319, 304, 308, 305, 311, 307, 300, 305"
   ]
  },
  {
   "cell_type": "code",
   "execution_count": 20,
   "metadata": {
    "scrolled": true
   },
   "outputs": [
    {
     "name": "stdout",
     "output_type": "stream",
     "text": [
      "mean of sample1: 307.2307692307692\n",
      "mean of sample2: 314.61538461538464\n",
      "standard deviation of sample1: 6.053020176278769\n",
      "standard deviation of sample2: 10.565098285162705\n",
      "t_test: -2.10090292575557\n",
      "p_val: 0.04633501389516513\n",
      "we can reject the null hypothesis\n"
     ]
    }
   ],
   "source": [
    "from scipy.stats import ttest_ind\n",
    "\n",
    "sample1=np.array([300, 315, 320, 311, 314, 309, 300, 308, 305, 303, 305, 301, 303])\n",
    "sample2=np.array([335, 329, 322, 321, 324, 319, 304, 308, 305, 311, 307, 300, 305])\n",
    "\n",
    "mean1=np.mean(sample1)\n",
    "mean2=np.mean(sample2)\n",
    "sdt1=np.std(sample1)\n",
    "sdt2=np.std(sample2)\n",
    "print(\"mean of sample1:\", mean1)\n",
    "print(\"mean of sample2:\", mean2)\n",
    "print(\"standard deviation of sample1:\", sdt1)\n",
    "print(\"standard deviation of sample2:\", sdt2)\n",
    "\n",
    "t_test, p_val = ttest_ind(sample1, sample2)\n",
    "print(\"t_test:\", t_test)\n",
    "print(\"p_val:\", p_val)\n",
    "\n",
    "if p_val < 0.05 :\n",
    "    print(\"we can reject the null hypothesis\")\n",
    "else:\n",
    "    print(\"we fail to reject the null hypothesis\")"
   ]
  },
  {
   "cell_type": "markdown",
   "metadata": {},
   "source": [
    "This suggests that there is sufficient evidence to conclude that the mean weight of the turtle species represented by Sample 1 is significantly different from the mean weight represented by Sample 2."
   ]
  },
  {
   "cell_type": "markdown",
   "metadata": {},
   "source": [
    "## Exercise 3\n"
   ]
  },
  {
   "cell_type": "code",
   "execution_count": null,
   "metadata": {},
   "outputs": [],
   "source": [
    "The following data shows the max jump height (in inches) before and after using the training program for each player:\n",
    "\n",
    "Before: 22, 24, 20, 19, 19, 20, 22, 25, 24, 23, 22, 21\n",
    "\n",
    "After: 23, 25, 20, 24, 18, 22, 23, 28, 24, 25, 24, 20"
   ]
  },
  {
   "cell_type": "code",
   "execution_count": 23,
   "metadata": {},
   "outputs": [
    {
     "data": {
      "text/plain": [
       "TtestResult(statistic=-2.5289026942943655, pvalue=0.02802807458682508, df=11)"
      ]
     },
     "execution_count": 23,
     "metadata": {},
     "output_type": "execute_result"
    }
   ],
   "source": [
    "before = [22, 24, 20, 19, 19, 20, 22, 25, 24, 23, 22, 21]\n",
    "after = [23, 25, 20, 24, 18, 22, 23, 28, 24, 25, 24, 20]\n",
    "\n",
    "stats.ttest_rel(before,after)"
   ]
  },
  {
   "cell_type": "markdown",
   "metadata": {},
   "source": [
    "Statistic: The t-statistic is -2.5289026942943655. This value indicates how many standard errors the sample mean is from the null hypothesis mean. A negative value suggests that the sample mean is below the null hypothesis mean.\n",
    "\n",
    "P-value: The p-value is 0.02802807458682508. This value represents the probability of observing a t-statistic as extreme as or more extreme than the one obtained from the sample, assuming that the null hypothesis (that the mean weight of the turtle species is equal to 310 pounds) is true. A low p-value (typically below the chosen significance level, often 0.05) suggests that there is enough evidence to reject the null hypothesis.\n",
    "\n",
    "Degrees of Freedom (df): The degrees of freedom is 11. This value represents the number of independent pieces of information available to estimate a parameter. It's commonly used in the calculation of the t-statistic."
   ]
  }
 ],
 "metadata": {
  "kernelspec": {
   "display_name": "Python 3 (ipykernel)",
   "language": "python",
   "name": "python3"
  },
  "language_info": {
   "codemirror_mode": {
    "name": "ipython",
    "version": 3
   },
   "file_extension": ".py",
   "mimetype": "text/x-python",
   "name": "python",
   "nbconvert_exporter": "python",
   "pygments_lexer": "ipython3",
   "version": "3.11.5"
  }
 },
 "nbformat": 4,
 "nbformat_minor": 1
}
